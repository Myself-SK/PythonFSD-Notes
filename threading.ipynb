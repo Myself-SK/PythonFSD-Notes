{
 "cells": [
  {
   "cell_type": "code",
   "execution_count": 2,
   "metadata": {},
   "outputs": [],
   "source": [
    "import time\n",
    "def Sleep(name):\n",
    "    print(f\"{name} is Sleeping\")\n",
    "    time.sleep(3)\n",
    "    print(f\"{name} woke up\")\n"
   ]
  },
  {
   "cell_type": "code",
   "execution_count": 3,
   "metadata": {},
   "outputs": [
    {
     "name": "stdout",
     "output_type": "stream",
     "text": [
      "Dishu is Sleeping\n",
      "Dishu woke up\n"
     ]
    }
   ],
   "source": [
    "Sleep(\"Dishu\")"
   ]
  },
  {
   "cell_type": "code",
   "execution_count": 5,
   "metadata": {},
   "outputs": [
    {
     "name": "stdout",
     "output_type": "stream",
     "text": [
      "Shiva is Sleeping\n",
      "Shiva woke up\n",
      "Dishu is Sleeping\n",
      "Dishu woke up\n",
      "Abhi is Sleeping\n",
      "Abhi woke up\n",
      "Priya is Sleeping\n",
      "Priya woke up\n",
      "Abigna is Sleeping\n",
      "Abigna woke up\n"
     ]
    },
    {
     "data": {
      "text/plain": [
       "[None, None, None, None, None]"
      ]
     },
     "execution_count": 5,
     "metadata": {},
     "output_type": "execute_result"
    }
   ],
   "source": [
    "l = ['Shiva','Dishu','Abhi','Priya','Abigna']\n",
    "list(map(Sleep, l))"
   ]
  },
  {
   "cell_type": "code",
   "execution_count": 10,
   "metadata": {},
   "outputs": [
    {
     "name": "stdout",
     "output_type": "stream",
     "text": [
      "name is Sleeping\n"
     ]
    },
    {
     "name": "stdout",
     "output_type": "stream",
     "text": [
      "name woke up\n"
     ]
    }
   ],
   "source": []
  },
  {
   "cell_type": "code",
   "execution_count": 15,
   "metadata": {},
   "outputs": [
    {
     "name": "stdout",
     "output_type": "stream",
     "text": [
      "Shiva is Sleeping\n",
      "Abhi is Sleeping\n",
      "Dishu is Sleeping\n",
      "Abhigna is Sleeping\n",
      "priya is Sleeping\n",
      "Shiva woke up\n",
      "Abhi woke up\n",
      "Dishu woke up\n",
      "Abhigna woke up\n",
      "priya woke up\n",
      "Everyone woke Up\n"
     ]
    }
   ],
   "source": [
    "from threading import Thread\n",
    "t1 = Thread(target=lambda: Sleep(\"Shiva\"))\n",
    "t2 = Thread(target=lambda: Sleep(\"Abhi\"))\n",
    "t3 = Thread(target=lambda: Sleep(\"Dishu\"))\n",
    "t5 = Thread(target=lambda: Sleep(\"priya\"))\n",
    "t4 = Thread(target=lambda: Sleep(\"Abhigna\"))\n",
    "t1.start()\n",
    "t2.start()\n",
    "t3.start()\n",
    "t4.start()\n",
    "t5.start()\n",
    "t1.join()\n",
    "t2.join()\n",
    "t3.join()\n",
    "t4.join()\n",
    "t5.join()\n",
    "print(\"Everyone woke Up\")"
   ]
  },
  {
   "cell_type": "code",
   "execution_count": null,
   "metadata": {},
   "outputs": [],
   "source": []
  }
 ],
 "metadata": {
  "kernelspec": {
   "display_name": "base",
   "language": "python",
   "name": "python3"
  },
  "language_info": {
   "codemirror_mode": {
    "name": "ipython",
    "version": 3
   },
   "file_extension": ".py",
   "mimetype": "text/x-python",
   "name": "python",
   "nbconvert_exporter": "python",
   "pygments_lexer": "ipython3",
   "version": "3.11.3"
  }
 },
 "nbformat": 4,
 "nbformat_minor": 2
}
